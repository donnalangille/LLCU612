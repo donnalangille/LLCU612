{
 "cells": [
  {
   "cell_type": "markdown",
   "metadata": {},
   "source": [
    "# Mini-Assignment 2: Out Out Damn Speaker!"
   ]
  },
  {
   "cell_type": "markdown",
   "metadata": {},
   "source": [
    "Using the plain text version of Macbeth on Project Gutenberg, try to isolate only speeches in the play (not stage directions or other indications), Next, try removing the speaker name for each speech (get it now, \"out out damn speaker\"). Or, for the non-bonus version, only get rid of character names."
   ]
  },
  {
   "cell_type": "markdown",
   "metadata": {},
   "source": [
    "The first step is to import the text from the Project Gutenberg site. Since this is such a large file, we can preview the text by only showing the first 80 characters."
   ]
  },
  {
   "cell_type": "code",
   "execution_count": 7,
   "metadata": {},
   "outputs": [
    {
     "data": {
      "text/plain": [
       "'\\ufeffThis Etext file is presented by Project Gutenberg, in\\r\\ncooperation with World L'"
      ]
     },
     "execution_count": 7,
     "metadata": {},
     "output_type": "execute_result"
    }
   ],
   "source": [
    "import urllib.request\n",
    "\n",
    "url = \"http://www.gutenberg.org/cache/epub/1129/pg1129.txt\" #The contents from the Project Gutenberg web page is placed into a variable called url \n",
    "source = urllib.request.urlopen(url).read().decode() #The readable text file is being placed into a variable called source\n",
    "source[0:80] #Print the first 80 characters of the variable source"
   ]
  },
  {
   "cell_type": "markdown",
   "metadata": {},
   "source": [
    "The split function helps break the text into more manageable chunks. The argument \\r\\n refers to a newline and a carriage return. This is where the text will \"split\". The len function returns the length of a string. The manageable chunks will then be placed in the variable (var) called lines. \n",
    "\n",
    "The len function returns the length of a string. In our case, we want to know the length of var lines. "
   ]
  },
  {
   "cell_type": "code",
   "execution_count": 8,
   "metadata": {},
   "outputs": [
    {
     "data": {
      "text/plain": [
       "3194"
      ]
     },
     "execution_count": 8,
     "metadata": {},
     "output_type": "execute_result"
    }
   ],
   "source": [
    "lines = source.split(\"\\r\\n\")\n",
    "len(lines)"
   ]
  },
  {
   "cell_type": "markdown",
   "metadata": {},
   "source": [
    "Since Project Gutenberg has a lot of extra text at the beginning of the play (e.g. license information), we want to get rid of that. In order to do that, we grab the middle of the text by searching for the location of the word SCENE: and the location of the phrase THE END. We place the contents between those two instances in a variable called macbeth. "
   ]
  },
  {
   "cell_type": "code",
   "execution_count": 15,
   "metadata": {},
   "outputs": [
    {
     "name": "stdout",
     "output_type": "stream",
     "text": [
      "SCENE: Scotland and England\r\n",
      "\r\n",
      "\r\n",
      "ACT I. SCENE I.\r\n",
      "A desert place. Thunder and lightning.\r\n",
      "\r\n",
      "Enter three Witches.\r\n",
      "\r\n",
      "  FIRST WITCH. When shall we three meet again?\r\n",
      "    In thunder, lightning, or in rai e, time, and place.\r\n",
      "    So thanks to all at once and to each one,\r\n",
      "    Whom we invite to see us crown'd at Scone.\r\n",
      "                                               Flourish. Exeunt.\r\n",
      "                 -\n"
     ]
    }
   ],
   "source": [
    "locationOfScene = source.find(\"SCENE:\")\n",
    "noStart = source[locationOfScene:]\n",
    "noStart[0:400]\n",
    "locationOfEnd = noStart.find(\"THE END\")\n",
    "macbeth = noStart[0:locationOfEnd]\n",
    "print(macbeth[0:200], macbeth[-200:])"
   ]
  },
  {
   "cell_type": "markdown",
   "metadata": {},
   "source": [
    "We can accomplish the same thing by creating a loop that will run through var lines and grab everything from the \"SCENE:\" to \"THE END\". \n",
    "\n"
   ]
  },
  {
   "cell_type": "code",
   "execution_count": 10,
   "metadata": {},
   "outputs": [
    {
     "name": "stdout",
     "output_type": "stream",
     "text": [
      "SCENE: Scotland and England                                                Flourish. Exeunt.\n"
     ]
    }
   ],
   "source": [
    "reading = False # The reading is set to false. \n",
    "keepers = [] # We start a new array called keepers but keep it empty. We will put the new lines in there. \n",
    "for line in lines: # For every line in var lines...\n",
    "    if \"SCENE:\" in line: # If there is the word \"SCENE:\"...\n",
    "        reading = True # Then the reading is true.\n",
    "    if \"THE END\" in line: # If it comes across \"THE END\"...\n",
    "        break # Then stop! \n",
    "    if reading: # If the reading is true, then... \n",
    "        keepers.append(line) # add these lines to keepers. \n",
    "print(keepers[0], keepers[-1]) # Print the first line of keepers. "
   ]
  },
  {
   "cell_type": "markdown",
   "metadata": {},
   "source": [
    "Now that we have our main text (no licenses), we can extract just the speeches (no characters). We will accomplish this by using a for loop and regular expressions.  \n",
    "\n",
    "We also use the append function. \"The append() method adds a single item to the existing list. It doesn't return a new list; rather it modifies the original list\" (https://www.programiz.com/python-programming/methods/list/append). We are appending noSpeech to speeches. "
   ]
  },
  {
   "cell_type": "code",
   "execution_count": 14,
   "metadata": {},
   "outputs": [
    {
     "data": {
      "text/plain": [
       "['',\n",
       " '',\n",
       " '',\n",
       " '',\n",
       " ' When shall we three meet again?',\n",
       " '    In thunder, lightning, or in rain?',\n",
       " \" When the hurlyburly's done,\",\n",
       " \"    When the battle's lost and won.\",\n",
       " ' That will be ere the set of sun.',\n",
       " ' Where the place?',\n",
       " ' Upon the heath.',\n",
       " ' There to meet with Macbeth.',\n",
       " ' I come, Graymalkin.',\n",
       " ' Paddock calls. Anon!',\n",
       " '    Fair is foul, and foul is fair.',\n",
       " '    Hover through the fog and filthy air.                Exeunt.',\n",
       " '',\n",
       " '',\n",
       " '',\n",
       " '',\n",
       " '',\n",
       " '',\n",
       " ' What bloody man is that? He can report,',\n",
       " '    As seemeth by his plight, of the revolt',\n",
       " '    The newest state.',\n",
       " ' This is the sergeant',\n",
       " '    Who like a good and hardy soldier fought',\n",
       " \"    'Gainst my captivity. Hail, brave friend!\",\n",
       " '    Say to the King the knowledge of the broil',\n",
       " '    As thou didst leave it.']"
      ]
     },
     "execution_count": 14,
     "metadata": {},
     "output_type": "execute_result"
    }
   ],
   "source": [
    "import re # Import regular expressions \n",
    "lines = macbeth.split(\"\\r\\n\") # Split\n",
    "speeches = [] # Create a new array called speeches \n",
    "for line in lines: # For every line in lines\n",
    "    if not re.match(\"^\\S\", line): # If the line has no white space at the beginning of a line, do not match. If it does have a white space then match.\n",
    "        noSpeech = re.sub(r'^\\s+[A-Z]+( [A-Z]+)*\\.', \"\", line) # Replace replace everything having one or more whitespaces, being in caps for one or more characters, or if it has another word that ends with a period\n",
    "        speeches.append(noSpeech)\n",
    "speeches[0:30]"
   ]
  },
  {
   "cell_type": "markdown",
   "metadata": {},
   "source": [
    "We can also clean the text by using the re.sub function. The re.sub function is used to replace substrings.\n",
    "\n",
    "\"The syntax for re.sub() is re.sub(pattern,repl,string).\" (https://www.pythonforbeginners.com/regex/regular-expressions-in-python)  \n",
    "\n",
    "\n",
    "This will will replace all lines with anything but whitespace at the beginning of each new line in macbeth and put these whitespace lines into a string separated by newline characters. Next, we will take otherSpeeches and replace everything having one or more whitespaces, being in caps for one or more characters, or if it has another word that ends with a period, and place it in a var called noSpeech. "
   ]
  },
  {
   "cell_type": "code",
   "execution_count": 13,
   "metadata": {},
   "outputs": [
    {
     "name": "stdout",
     "output_type": "stream",
     "text": [
      " When shall we three meet again?\r\n",
      "    In thunder, lightning, or in rain?\r\n",
      " When the hurlyburly's done,\r\n",
      "    When the battle's lost and won.\r\n",
      " That will be ere the set of sun.\r\n",
      " Where the place?\r\n",
      " Upon the heath.\r\n",
      " There to meet with Macbeth.\r\n",
      " I come, Graymalkin.\r\n",
      " Paddock calls. Anon!\r\n",
      "    Fair is foul, and foul is fair.\r\n",
      "    Hover through the fog and filthy air.                Exeunt.\r\n"
     ]
    }
   ],
   "source": [
    "otherSpeeches = re.sub(r'^\\S.*', \"\", macbeth, 0, re.M) #0 means there is no limit to how many replacements the code does, re.M is a flag (multiline) that means it's possible for the carrot symbol to match every new line (based on newline characters), rather than just the beginning of the string \n",
    "noSpeech = re.sub(r'^\\s+[A-Z]+( [A-Z]+)*\\.', \"\", otherSpeeches, 0, re.M) \n",
    "print(noSpeech[0:390])"
   ]
  },
  {
   "cell_type": "markdown",
   "metadata": {},
   "source": [
    "Voilà! We cleaned the text for Macbeth."
   ]
  }
 ],
 "metadata": {
  "kernelspec": {
   "display_name": "Python 3",
   "language": "python",
   "name": "python3"
  },
  "language_info": {
   "codemirror_mode": {
    "name": "ipython",
    "version": 3
   },
   "file_extension": ".py",
   "mimetype": "text/x-python",
   "name": "python",
   "nbconvert_exporter": "python",
   "pygments_lexer": "ipython3",
   "version": "3.7.1"
  }
 },
 "nbformat": 4,
 "nbformat_minor": 2
}
